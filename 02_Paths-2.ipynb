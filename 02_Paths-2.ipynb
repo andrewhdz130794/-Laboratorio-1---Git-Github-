{
 "cells": [
  {
   "attachments": {},
   "cell_type": "markdown",
   "metadata": {},
   "source": [
    "**Nombre:** Andrea María Hernández Marroquín\n",
    "**Carné:** 24010074"
   ]
  },
  {
   "attachments": {},
   "cell_type": "markdown",
   "metadata": {},
   "source": [
    "## **INTRODUCCIÓN**\n",
    "\n",
    "    Con el transcurso de los años, la tecnología ha revolucionado la forma en la que trabajamos y creamos. Herramientas como Jupyter nos ofrecen una manera en la que podemos explorar y comunicar nuestras ideas en el ambito de la ciencia de datos y el desarrollo de software. \n",
    "\n",
    "    La combinacion de texto enriquecido, código ejecutable entre otros elementos, permiten a los usuarios no solo escribir y ejecutar código, si no también explicar su razonamiento, documentar procesos y compartir resultados de una manera dinámica y accesible.\n",
    "\n",
    "    A continuación exploraremos algunas herramientas que nos servirán a la hora de realizar nuestros proyectos."
   ]
  },
  {
   "attachments": {},
   "cell_type": "markdown",
   "metadata": {},
   "source": [
    "## ***¿Qué es Git?***\n",
    "\n",
    "    Git es un sistema de control de versiones distribuido ampliamente utilizado para el seguimiento de los cambios en proyectos de software. Permite a los desarrolladores colaborar en el desarrollo de códogp fuente, mantener un historial de cambios, fusionar y raminficar el códogp de manera eficiente y revertir a versiones anteriorees si es necesario."
   ]
  },
  {
   "attachments": {},
   "cell_type": "markdown",
   "metadata": {},
   "source": [
    "## ***¿Qué es github***\n",
    "\n",
    "    Github es una plataforma en linea que utiliza el sistema de controla de versiones Git para alojar y colaborar en proyectos de software. Permite a los desarrolladores almacenar y gestionar su código fuente de manera remota, facilitando la colaboracion entre equipos distribuidos geográficamente. Además de alojar repositorios Git, Github ofrece herramentas para el seguimiento de problemas, la gestión de proyectos, la revisión de código y la integración continua, lo que la convierte en una herramienta integral para el desarrollo de software en equipo."
   ]
  },
  {
   "attachments": {},
   "cell_type": "markdown",
   "metadata": {},
   "source": [
    "## ***¿Qué son Magic Cells?***\n",
    "\n",
    "    Son palabras claves o comandos especiales que se pueden usar en cuadernos de Jupyter para realizar acciones especificas o interactuar con el entorno del cuaderno de una manera particular. Estas celdas generalemente comienzan por un signo de porcentaje (%%) seguidos de un nombre que indica que accion realizara la celda. Por ejemplo '%matplotlib in line' es un magic cell que se usa para mostrar gráficosde Matplotlib en línea dentro del cuaderno Jupyter."
   ]
  },
  {
   "attachments": {},
   "cell_type": "markdown",
   "metadata": {},
   "source": [
    "## **CONCLUSIÓN**\n",
    "\n",
    "    -Este tipo de herramientas nos permiten realizar un seguimiento preciso de los cambios en nuestro codigo, a colaborar de manera efectida en el desarrollo de software.\n",
    "    -Dominar  este tipo de herramientas nos ayuda a fomentar buenas practicas en el trabajo de equipo.\n",
    "    -Github nos proporciona una infraestructura solida  para alojar repositorios Git, facilitando aún más la colaboración, la revisión de codigo y la gestión de proyectos"
   ]
  }
 ],
 "metadata": {
  "kernel_info": {
   "name": "synapse_pyspark"
  },
  "kernelspec": {
   "display_name": "Python 3 (ipykernel)",
   "language": "python",
   "name": "python3"
  },
  "language_info": {
   "codemirror_mode": {
    "name": "ipython",
    "version": 3
   },
   "file_extension": ".py",
   "mimetype": "text/x-python",
   "name": "python",
   "nbconvert_exporter": "python",
   "pygments_lexer": "ipython3",
   "version": "3.8.15"
  },
  "save_output": true,
  "synapse_widget": {
   "state": {},
   "version": "0.1"
  }
 },
 "nbformat": 4,
 "nbformat_minor": 2
}
