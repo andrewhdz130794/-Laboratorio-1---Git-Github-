{
  "nbformat": 4,
  "nbformat_minor": 0,
  "metadata": {
    "colab": {
      "provenance": [],
      "authorship_tag": "ABX9TyMGHX2bX/5NERJ6q5J1RHh5",
      "include_colab_link": true
    },
    "kernelspec": {
      "name": "python3",
      "display_name": "Python 3"
    },
    "language_info": {
      "name": "python"
    }
  },
  "cells": [
    {
      "cell_type": "markdown",
      "metadata": {
        "id": "view-in-github",
        "colab_type": "text"
      },
      "source": [
        "<a href=\"https://colab.research.google.com/github/andrewhdz130794/-Laboratorio-1---Git-Github-/blob/main/Laboratorio_2.ipynb\" target=\"_parent\"><img src=\"https://colab.research.google.com/assets/colab-badge.svg\" alt=\"Open In Colab\"/></a>"
      ]
    },
    {
      "cell_type": "markdown",
      "source": [
        "# Inciso 1"
      ],
      "metadata": {
        "id": "kmg_7Npnywe-"
      }
    },
    {
      "cell_type": "code",
      "source": [
        "def convertir_segundos(segundos):\n",
        "    horas = segundos // 3600\n",
        "    segundos_sobrantes = segundos % 3600\n",
        "    minutos = segundos_sobrantes // 60\n",
        "    segundos_finales = segundos_sobrantes % 60\n",
        "    return horas, minutos, segundos_finales\n",
        "\n",
        "segundos_str = input(\"Ingrese el número de segundos: \")\n",
        "if segundos_str.isdigit():\n",
        "    segundos = int(segundos_str)\n",
        "    horas, minutos, segundos_finales = convertir_segundos(segundos)\n",
        "    print(f\"Horas: {horas}, Minutos: {minutos}, Segundos: {segundos_finales}\")\n",
        "else:\n",
        "    print(\"Error: Por favor, ingrese un número entero de segundos.\")\n"
      ],
      "metadata": {
        "colab": {
          "base_uri": "https://localhost:8080/"
        },
        "id": "CWImkR44y4Vp",
        "outputId": "d8e9f59e-f62b-4108-c36b-b8960fa12b2d"
      },
      "execution_count": 7,
      "outputs": [
        {
          "output_type": "stream",
          "name": "stdout",
          "text": [
            "Ingrese el número de segundos: 3456\n",
            "Horas: 0, Minutos: 57, Segundos: 36\n"
          ]
        }
      ]
    },
    {
      "cell_type": "markdown",
      "source": [
        "# Inciso 2"
      ],
      "metadata": {
        "id": "KDcRAp5p0rAn"
      }
    },
    {
      "cell_type": "code",
      "source": [
        "def patrones_triangulares(caracter):\n",
        "    # Patrón 1\n",
        "    for i in range(1, 6):\n",
        "        print(caracter * i)\n",
        "    print()\n",
        "\n",
        "    # Patrón 2\n",
        "    for i in range(5, 0, -1):\n",
        "        print(caracter * i)\n",
        "    print()\n",
        "\n",
        "    # Patrón 3\n",
        "    for i in range(1, 6):\n",
        "        print(\" \" * (5 - i) + caracter * i)\n",
        "    print()\n",
        "\n",
        "    # Patrón 4\n",
        "    for i in range(5, 0, -1):\n",
        "        print(\" \" * (5 - i) + caracter * i)\n",
        "    print()\n",
        "caracter = input(\"Ingrese un carácter: \")[0]\n",
        "patrones_triangulares(caracter)\n"
      ],
      "metadata": {
        "colab": {
          "base_uri": "https://localhost:8080/"
        },
        "id": "wiNVA4GE002L",
        "outputId": "90e8cee3-c7f8-49a4-e3d5-7b3ab2eae9ba"
      },
      "execution_count": 8,
      "outputs": [
        {
          "output_type": "stream",
          "name": "stdout",
          "text": [
            "Ingrese un carácter: 20\n",
            "2\n",
            "22\n",
            "222\n",
            "2222\n",
            "22222\n",
            "\n",
            "22222\n",
            "2222\n",
            "222\n",
            "22\n",
            "2\n",
            "\n",
            "    2\n",
            "   22\n",
            "  222\n",
            " 2222\n",
            "22222\n",
            "\n",
            "22222\n",
            " 2222\n",
            "  222\n",
            "   22\n",
            "    2\n",
            "\n"
          ]
        }
      ]
    },
    {
      "cell_type": "markdown",
      "source": [
        "# Inciso 3"
      ],
      "metadata": {
        "id": "PuZBAUvz7sCE"
      }
    },
    {
      "cell_type": "code",
      "source": [
        "from datetime import datetime\n",
        "\n",
        "from datetime import datetime\n",
        "\n",
        "def calculo_edad(fecha_nacimiento):\n",
        "    fecha_actual = datetime.now()\n",
        "    edad = fecha_actual - fecha_nacimiento\n",
        "\n",
        "    anio = edad.days // 365\n",
        "    meses = (edad.days % 365) // 30\n",
        "    dias = (edad.days % 365) % 30\n",
        "\n",
        "    return anio, meses, dias\n",
        "\n",
        "try:\n",
        "    anio2 = int(input(\"Ingrese el año: \"))\n",
        "    mes = int(input(\"Ingrese el mes: \"))\n",
        "    dia = int(input(\"Ingrese el día: \"))\n",
        "\n",
        "    if (mes >= 1) and (mes <= 12) and (dia >= 1) and (dia <= 31):\n",
        "        fecha_nacimiento = datetime(anio2, mes, dia)\n",
        "\n",
        "        anio, meses, dias = calculo_edad(fecha_nacimiento)\n",
        "\n",
        "        print(f\"Su edad es: {anio} años, {meses} meses, {dias} días\")\n",
        "    else:\n",
        "        print(\"Error - Fecha no válida\")\n",
        "except ValueError:\n",
        "    print(\"Error - Entrada no válida\")\n"
      ],
      "metadata": {
        "colab": {
          "base_uri": "https://localhost:8080/"
        },
        "id": "_XxvEp9v1dii",
        "outputId": "7befaf0e-640a-4e67-ab75-aec1b84fc517"
      },
      "execution_count": 12,
      "outputs": [
        {
          "output_type": "stream",
          "name": "stdout",
          "text": [
            "Ingrese el año: 1994\n",
            "Ingrese el mes: 13\n",
            "Ingrese el día: 13\n",
            "Error - Fecha no válida\n"
          ]
        }
      ]
    },
    {
      "cell_type": "markdown",
      "source": [
        "# Inciso 4"
      ],
      "metadata": {
        "id": "8fgDmPQOGN7k"
      }
    },
    {
      "cell_type": "code",
      "source": [
        "def tupla_a_string(tupla)\n",
        "    cadena = ''.join(str(elemento) for elemento in tupla)\n",
        "    return cadena\n",
        "tupla_ejemplo = (10, 20, 40, 5, 70)\n",
        "resultado = tupla_a_string(tupla_ejemplo)\n",
        "print(resultado)\n"
      ],
      "metadata": {
        "colab": {
          "base_uri": "https://localhost:8080/"
        },
        "id": "G1A3h2pVF-SD",
        "outputId": "0eb00e25-b1a4-4232-c2d9-4fa2843a47dd"
      },
      "execution_count": 23,
      "outputs": [
        {
          "output_type": "stream",
          "name": "stdout",
          "text": [
            "102040570\n"
          ]
        }
      ]
    },
    {
      "cell_type": "markdown",
      "source": [
        "#Inciso 5"
      ],
      "metadata": {
        "id": "xn8TQccZFhbC"
      }
    },
    {
      "cell_type": "code",
      "source": [
        "def eliminar_tuplas_vacias(lista_de_tuplas):\n",
        "    lista_filtrada = [tupla for tupla in lista_de_tuplas if tupla]\n",
        "    return lista_filtrada\n",
        "lista_original = [(), (), ('X',), ('a', 'b'), ('a', 'b', 'c'), ('d')]\n",
        "lista_filtrada = eliminar_tuplas_vacias(lista_original)\n",
        "print(lista_filtrada)\n"
      ],
      "metadata": {
        "colab": {
          "base_uri": "https://localhost:8080/"
        },
        "id": "Pt45YDQQE9CG",
        "outputId": "b67fa0e7-d38c-4eef-8596-17ab760597b2"
      },
      "execution_count": 22,
      "outputs": [
        {
          "output_type": "stream",
          "name": "stdout",
          "text": [
            "[('X',), ('a', 'b'), ('a', 'b', 'c'), 'd']\n"
          ]
        }
      ]
    },
    {
      "cell_type": "markdown",
      "source": [
        "#Inciso 6"
      ],
      "metadata": {
        "id": "f7LENWVGEYfO"
      }
    },
    {
      "cell_type": "code",
      "source": [
        "def calc_promedio_tuplas(tupla_de_tuplas):\n",
        "    promedio_tupla = tuple(sum(tupla) / len(tupla) for tupla in tupla_de_tuplas)\n",
        "    return promedio_tupla\n",
        "\n",
        "# Ejemplo de uso\n",
        "tupla_de_tuplas = ((10,10,10,12), (30,45,56,45), (81,80,39,32))\n",
        "resultado = calc_promedio_tuplas(tupla_de_tuplas)\n",
        "print(resultado)\n"
      ],
      "metadata": {
        "colab": {
          "base_uri": "https://localhost:8080/"
        },
        "id": "Z__6h_989Buy",
        "outputId": "d63976dc-1a3c-4e39-b045-a7c0fff0c07d"
      },
      "execution_count": 15,
      "outputs": [
        {
          "output_type": "stream",
          "name": "stdout",
          "text": [
            "(10.5, 44.0, 58.0)\n"
          ]
        }
      ]
    },
    {
      "cell_type": "markdown",
      "source": [
        "# Inciso 7"
      ],
      "metadata": {
        "id": "AA2pNcEdEMz0"
      }
    },
    {
      "cell_type": "code",
      "source": [
        "def mostrar_estado_cobro(facturas):\n",
        "    total_cobrado = sum(facturas.values())\n",
        "    total_pendiente = 0\n",
        "    for factura, costo in facturas.items():\n",
        "        total_pendiente += costo\n",
        "    total_pendiente -= total_cobrado\n",
        "    print(\"El total es:\", total_cobrado)\n",
        "    print(\"Lo pendiente es:\", total_pendiente)\n",
        "\n",
        "def agregar_factura(facturas):\n",
        "    numero_factura = input(\"Ingrese el número de factura: \")\n",
        "    costo = float(input(\"Ingrese el total de la factura: \"))\n",
        "    facturas[numero_factura] = costo\n",
        "    print(\"Factura agregada\")\n",
        "    print(\"Facturas pendientes:\", facturas)\n",
        "\n",
        "def pagar_factura(facturas):\n",
        "    numero_factura = input(\"Ingrese el número de factura a pagar: \")\n",
        "    if numero_factura in facturas:\n",
        "        del facturas[numero_factura]\n",
        "        print(\"Factura pagada\")\n",
        "        print(\"Facturas pendientes:\", facturas)\n",
        "    else:\n",
        "        print(\"El número de factura ingresado no existe.\")\n",
        "\n",
        "facturas = {}\n",
        "\n",
        "while True:\n",
        "    print(\"+++++ Menú ++++\")\n",
        "    print(\"1. Agregar nueva factura\")\n",
        "    print(\"2. Pagar factura existente\")\n",
        "    print(\"3. Terminar\")\n",
        "    opcion = input(\"Seleccione una opción: \")\n",
        "\n",
        "    if opcion == \"1\":\n",
        "        agregar_factura(facturas)\n",
        "    elif opcion == \"2\":\n",
        "        pagar_factura(facturas)\n",
        "    elif opcion == \"3\":\n",
        "        print(\"\\nEstado final:\")\n",
        "        mostrar_estado_cobro(facturas)\n",
        "        break\n",
        "    else:\n",
        "        print(\"Opción no válida. Por favor, seleccione una opción válida.\")\n",
        "\n",
        "    print(\"\\nEstado actual:\")\n",
        "    mostrar_estado_cobro(facturas)\n"
      ],
      "metadata": {
        "colab": {
          "base_uri": "https://localhost:8080/"
        },
        "id": "pCYKBwOa-Odt",
        "outputId": "a92bad10-0e79-4aa0-c729-f575bdd0035f"
      },
      "execution_count": 16,
      "outputs": [
        {
          "output_type": "stream",
          "name": "stdout",
          "text": [
            "+++++ Menú ++++\n",
            "1. Agregar nueva factura\n",
            "2. Pagar factura existente\n",
            "3. Terminar\n",
            "Seleccione una opción: 1\n",
            "Ingrese el número de factura: 1234\n",
            "Ingrese el total de la factura: 20000\n",
            "Factura agregada\n",
            "Facturas pendientes: {'1234': 20000.0}\n",
            "\n",
            "Estado actual:\n",
            "El total es: 20000.0\n",
            "Lo pendiente es: 0.0\n",
            "+++++ Menú ++++\n",
            "1. Agregar nueva factura\n",
            "2. Pagar factura existente\n",
            "3. Terminar\n",
            "Seleccione una opción: 2\n",
            "Ingrese el número de factura a pagar: 1234\n",
            "Factura pagada\n",
            "Facturas pendientes: {}\n",
            "\n",
            "Estado actual:\n",
            "El total es: 0\n",
            "Lo pendiente es: 0\n",
            "+++++ Menú ++++\n",
            "1. Agregar nueva factura\n",
            "2. Pagar factura existente\n",
            "3. Terminar\n",
            "Seleccione una opción: 3\n",
            "\n",
            "Estado final:\n",
            "El total es: 0\n",
            "Lo pendiente es: 0\n"
          ]
        }
      ]
    },
    {
      "cell_type": "markdown",
      "source": [
        "# Inciso 8"
      ],
      "metadata": {
        "id": "Fm6wDhbiD4Cd"
      }
    },
    {
      "cell_type": "code",
      "source": [
        "import numpy as np\n",
        "\n",
        "def crear_baraja():\n",
        "    tipos = ['T', 'C', 'P', 'E']\n",
        "    numeros = ['01', '02', '03', '04', '05', '06', '07', '08', '09', '10', '11', '12', '13']\n",
        "    baraja = []\n",
        "    for tipo in tipos:\n",
        "        for numero in numeros:\n",
        "            carta = tipo + numero\n",
        "            baraja.append(carta)\n",
        "    return np.array(baraja)\n",
        "\n",
        "def crear_sets_aleatorios(baraja):\n",
        "    longitud_set1 = np.random.randint(1, len(baraja))\n",
        "    set1 = np.random.choice(baraja, longitud_set1, replace=False)\n",
        "    set2 = np.random.choice(baraja, np.random.randint(1, len(baraja)), replace=False)\n",
        "    return set1, set2\n",
        "\n",
        "def calcular_probabilidades(set1, set2):\n",
        "    interseccion = np.intersect1d(set1, set2)\n",
        "    prob_interseccion = len(interseccion) / len(set1) / len(set2)\n",
        "    print(\"Intersección:\", interseccion)\n",
        "    print(\"Probabilidad de la intersección:\", prob_interseccion)\n",
        "\n",
        "    diferencia = np.setdiff1d(set1, set2)\n",
        "    prob_diferencia = len(diferencia) / len(set1)\n",
        "    print(\"Diferencia (set1 - set2):\", diferencia)\n",
        "    print(\"Probabilidad de la diferencia de set1 - set2:\", prob_diferencia)\n",
        "\n",
        "baraja = crear_baraja()\n",
        "set1, set2 = crear_sets_aleatorios(baraja)\n",
        "print(\"Set 1:\", set1)\n",
        "print(\"Set 2:\", set2)\n",
        "calcular_probabilidades(set1, set2)\n",
        "\n"
      ],
      "metadata": {
        "colab": {
          "base_uri": "https://localhost:8080/"
        },
        "id": "w2GJTLXVBFyj",
        "outputId": "425c9b62-e2be-4600-81dc-561574949cdc"
      },
      "execution_count": 20,
      "outputs": [
        {
          "output_type": "stream",
          "name": "stdout",
          "text": [
            "Set 1: ['E05' 'C13' 'T09' 'C11' 'C04' 'C12' 'C10' 'C09' 'C02' 'C03' 'P10' 'P03'\n",
            " 'E01' 'T12' 'T06' 'P13' 'T03' 'E03' 'E10' 'T04' 'E11' 'T01' 'E02']\n",
            "Set 2: ['T07' 'C04' 'T01' 'T04' 'C11' 'T03' 'T09' 'E02' 'E12' 'P02' 'E10' 'P05'\n",
            " 'C06' 'E13' 'E04' 'C01']\n",
            "Intersección: ['C04' 'C11' 'E02' 'E10' 'T01' 'T03' 'T04' 'T09']\n",
            "Probabilidad de la intersección: 0.021739130434782608\n",
            "Diferencia (set1 - set2): ['C02' 'C03' 'C09' 'C10' 'C12' 'C13' 'E01' 'E03' 'E05' 'E11' 'P03' 'P10'\n",
            " 'P13' 'T06' 'T12']\n",
            "Probabilidad de la diferencia de set1 - set2: 0.6521739130434783\n"
          ]
        }
      ]
    }
  ]
}